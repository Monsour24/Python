{
 "cells": [
  {
   "cell_type": "code",
   "execution_count": null,
   "id": "1bc980af",
   "metadata": {},
   "outputs": [],
   "source": [
    "import turtle\n",
    "\n",
    "# Set up the screen\n",
    "screen = turtle.Screen()\n",
    "screen.title(\"Flag Drawing\")\n",
    "screen.bgcolor(\"white\")\n",
    "\n",
    "# Create a turtle instance\n",
    "flag_turtle = turtle.Turtle()\n",
    "\n",
    "# Draw the green stripe\n",
    "flag_turtle.penup()\n",
    "flag_turtle.goto(-150, 200)\n",
    "flag_turtle.pendown()\n",
    "flag_turtle.color(\"green\")\n",
    "flag_turtle.begin_fill()\n",
    "for _ in range(2):\n",
    "    flag_turtle.forward(100)\n",
    "    flag_turtle.right(90)\n",
    "    flag_turtle.forward(400)\n",
    "    flag_turtle.right(90)\n",
    "flag_turtle.end_fill()\n",
    "\n",
    "# Draw the white stripe\n",
    "flag_turtle.penup()\n",
    "flag_turtle.goto(-50, 200)\n",
    "flag_turtle.pendown()\n",
    "flag_turtle.color(\"white\")\n",
    "flag_turtle.begin_fill()\n",
    "for _ in range(2):\n",
    "    flag_turtle.forward(100)\n",
    "    flag_turtle.right(90)\n",
    "    flag_turtle.forward(400)\n",
    "    flag_turtle.right(90)\n",
    "flag_turtle.end_fill()\n",
    "\n",
    "# Draw the second green stripe\n",
    "flag_turtle.penup()\n",
    "flag_turtle.goto(50, 200)\n",
    "flag_turtle.pendown()\n",
    "flag_turtle.color(\"green\")\n",
    "flag_turtle.begin_fill()\n",
    "for _ in range(2):\n",
    "    flag_turtle.forward(100)\n",
    "    flag_turtle.right(90)\n",
    "    flag_turtle.forward(400)\n",
    "    flag_turtle.right(90)\n",
    "flag_turtle.end_fill()\n",
    "\n",
    "# Hide the turtle\n",
    "flag_turtle.hideturtle()\n",
    "\n",
    "# Keep the window open until it's manually closed\n",
    "turtle.done()\n"
   ]
  },
  {
   "cell_type": "code",
   "execution_count": null,
   "id": "8c292509",
   "metadata": {},
   "outputs": [],
   "source": []
  },
  {
   "cell_type": "code",
   "execution_count": null,
   "id": "f09155ec",
   "metadata": {},
   "outputs": [],
   "source": []
  }
 ],
 "metadata": {
  "kernelspec": {
   "display_name": "Python 3 (ipykernel)",
   "language": "python",
   "name": "python3"
  },
  "language_info": {
   "codemirror_mode": {
    "name": "ipython",
    "version": 3
   },
   "file_extension": ".py",
   "mimetype": "text/x-python",
   "name": "python",
   "nbconvert_exporter": "python",
   "pygments_lexer": "ipython3",
   "version": "3.9.13"
  }
 },
 "nbformat": 4,
 "nbformat_minor": 5
}
